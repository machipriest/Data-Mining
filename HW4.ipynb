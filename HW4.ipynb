{
 "cells": [
  {
   "cell_type": "code",
   "execution_count": 1,
   "id": "3b4d3a98",
   "metadata": {},
   "outputs": [
    {
     "name": "stdout",
     "output_type": "stream",
     "text": [
      "Requirement already satisfied: pandas in c:\\users\\3253q\\anaconda3\\lib\\site-packages (1.5.3)\n",
      "Requirement already satisfied: python-dateutil>=2.8.1 in c:\\users\\3253q\\anaconda3\\lib\\site-packages (from pandas) (2.8.2)\n",
      "Requirement already satisfied: pytz>=2020.1 in c:\\users\\3253q\\anaconda3\\lib\\site-packages (from pandas) (2022.7)\n",
      "Requirement already satisfied: numpy>=1.21.0 in c:\\users\\3253q\\anaconda3\\lib\\site-packages (from pandas) (1.23.5)\n",
      "Requirement already satisfied: six>=1.5 in c:\\users\\3253q\\anaconda3\\lib\\site-packages (from python-dateutil>=2.8.1->pandas) (1.16.0)\n"
     ]
    }
   ],
   "source": [
    "!pip install pandas"
   ]
  },
  {
   "cell_type": "code",
   "execution_count": 2,
   "id": "380403ee",
   "metadata": {},
   "outputs": [
    {
     "name": "stdout",
     "output_type": "stream",
     "text": [
      "Collecting sklearn\n",
      "  Downloading sklearn-0.0.post12.tar.gz (2.6 kB)\n",
      "  Preparing metadata (setup.py): started\n",
      "  Preparing metadata (setup.py): finished with status 'error'\n"
     ]
    },
    {
     "name": "stderr",
     "output_type": "stream",
     "text": [
      "  error: subprocess-exited-with-error\n",
      "  \n",
      "  python setup.py egg_info did not run successfully.\n",
      "  exit code: 1\n",
      "  \n",
      "  [15 lines of output]\n",
      "  The 'sklearn' PyPI package is deprecated, use 'scikit-learn'\n",
      "  rather than 'sklearn' for pip commands.\n",
      "  \n",
      "  Here is how to fix this error in the main use cases:\n",
      "  - use 'pip install scikit-learn' rather than 'pip install sklearn'\n",
      "  - replace 'sklearn' by 'scikit-learn' in your pip requirements files\n",
      "    (requirements.txt, setup.py, setup.cfg, Pipfile, etc ...)\n",
      "  - if the 'sklearn' package is used by one of your dependencies,\n",
      "    it would be great if you take some time to track which package uses\n",
      "    'sklearn' instead of 'scikit-learn' and report it to their issue tracker\n",
      "  - as a last resort, set the environment variable\n",
      "    SKLEARN_ALLOW_DEPRECATED_SKLEARN_PACKAGE_INSTALL=True to avoid this error\n",
      "  \n",
      "  More information is available at\n",
      "  https://github.com/scikit-learn/sklearn-pypi-package\n",
      "  [end of output]\n",
      "  \n",
      "  note: This error originates from a subprocess, and is likely not a problem with pip.\n",
      "error: metadata-generation-failed\n",
      "\n",
      "Encountered error while generating package metadata.\n",
      "\n",
      "See above for output.\n",
      "\n",
      "note: This is an issue with the package mentioned above, not pip.\n",
      "hint: See above for details.\n"
     ]
    },
    {
     "name": "stdout",
     "output_type": "stream",
     "text": [
      "Requirement already satisfied: matplotlib in c:\\users\\3253q\\anaconda3\\lib\\site-packages (3.7.0)\n",
      "Requirement already satisfied: pyparsing>=2.3.1 in c:\\users\\3253q\\anaconda3\\lib\\site-packages (from matplotlib) (3.0.9)\n",
      "Requirement already satisfied: numpy>=1.20 in c:\\users\\3253q\\anaconda3\\lib\\site-packages (from matplotlib) (1.23.5)\n",
      "Requirement already satisfied: contourpy>=1.0.1 in c:\\users\\3253q\\anaconda3\\lib\\site-packages (from matplotlib) (1.0.5)\n",
      "Requirement already satisfied: python-dateutil>=2.7 in c:\\users\\3253q\\anaconda3\\lib\\site-packages (from matplotlib) (2.8.2)\n",
      "Requirement already satisfied: fonttools>=4.22.0 in c:\\users\\3253q\\anaconda3\\lib\\site-packages (from matplotlib) (4.25.0)\n",
      "Requirement already satisfied: cycler>=0.10 in c:\\users\\3253q\\anaconda3\\lib\\site-packages (from matplotlib) (0.11.0)\n",
      "Requirement already satisfied: pillow>=6.2.0 in c:\\users\\3253q\\anaconda3\\lib\\site-packages (from matplotlib) (9.4.0)\n",
      "Requirement already satisfied: kiwisolver>=1.0.1 in c:\\users\\3253q\\anaconda3\\lib\\site-packages (from matplotlib) (1.4.4)\n",
      "Requirement already satisfied: packaging>=20.0 in c:\\users\\3253q\\anaconda3\\lib\\site-packages (from matplotlib) (22.0)\n",
      "Requirement already satisfied: six>=1.5 in c:\\users\\3253q\\anaconda3\\lib\\site-packages (from python-dateutil>=2.7->matplotlib) (1.16.0)\n",
      "Requirement already satisfied: numpy in c:\\users\\3253q\\anaconda3\\lib\\site-packages (1.23.5)\n",
      "Requirement already satisfied: scipy in c:\\users\\3253q\\anaconda3\\lib\\site-packages (1.10.0)\n",
      "Requirement already satisfied: numpy<1.27.0,>=1.19.5 in c:\\users\\3253q\\anaconda3\\lib\\site-packages (from scipy) (1.23.5)\n"
     ]
    }
   ],
   "source": [
    "!pip install sklearn\n",
    "!pip install matplotlib\n",
    "!pip install numpy\n",
    "!pip install scipy"
   ]
  },
  {
   "cell_type": "code",
   "execution_count": 3,
   "id": "b4bed260",
   "metadata": {},
   "outputs": [
    {
     "name": "stdout",
     "output_type": "stream",
     "text": [
      "Requirement already satisfied: scikit-learn in c:\\users\\3253q\\anaconda3\\lib\\site-packages (1.2.1)\n",
      "Requirement already satisfied: threadpoolctl>=2.0.0 in c:\\users\\3253q\\anaconda3\\lib\\site-packages (from scikit-learn) (2.2.0)\n",
      "Requirement already satisfied: joblib>=1.1.1 in c:\\users\\3253q\\anaconda3\\lib\\site-packages (from scikit-learn) (1.1.1)\n",
      "Requirement already satisfied: scipy>=1.3.2 in c:\\users\\3253q\\anaconda3\\lib\\site-packages (from scikit-learn) (1.10.0)\n",
      "Requirement already satisfied: numpy>=1.17.3 in c:\\users\\3253q\\anaconda3\\lib\\site-packages (from scikit-learn) (1.23.5)\n"
     ]
    }
   ],
   "source": [
    "!pip install scikit-learn"
   ]
  },
  {
   "cell_type": "code",
   "execution_count": 5,
   "id": "82da5821",
   "metadata": {},
   "outputs": [
    {
     "data": {
      "text/html": [
       "<div>\n",
       "<style scoped>\n",
       "    .dataframe tbody tr th:only-of-type {\n",
       "        vertical-align: middle;\n",
       "    }\n",
       "\n",
       "    .dataframe tbody tr th {\n",
       "        vertical-align: top;\n",
       "    }\n",
       "\n",
       "    .dataframe thead th {\n",
       "        text-align: right;\n",
       "    }\n",
       "</style>\n",
       "<table border=\"1\" class=\"dataframe\">\n",
       "  <thead>\n",
       "    <tr style=\"text-align: right;\">\n",
       "      <th></th>\n",
       "      <th>year</th>\n",
       "      <th>breau</th>\n",
       "      <th>timescale</th>\n",
       "      <th>count</th>\n",
       "    </tr>\n",
       "  </thead>\n",
       "  <tbody>\n",
       "    <tr>\n",
       "      <th>0</th>\n",
       "      <td>101</td>\n",
       "      <td>桃園區</td>\n",
       "      <td>0~2</td>\n",
       "      <td>120</td>\n",
       "    </tr>\n",
       "    <tr>\n",
       "      <th>1</th>\n",
       "      <td>101</td>\n",
       "      <td>桃園區</td>\n",
       "      <td>2~4</td>\n",
       "      <td>57</td>\n",
       "    </tr>\n",
       "    <tr>\n",
       "      <th>2</th>\n",
       "      <td>101</td>\n",
       "      <td>桃園區</td>\n",
       "      <td>4~6</td>\n",
       "      <td>67</td>\n",
       "    </tr>\n",
       "    <tr>\n",
       "      <th>3</th>\n",
       "      <td>101</td>\n",
       "      <td>桃園區</td>\n",
       "      <td>6~8</td>\n",
       "      <td>444</td>\n",
       "    </tr>\n",
       "    <tr>\n",
       "      <th>4</th>\n",
       "      <td>101</td>\n",
       "      <td>桃園區</td>\n",
       "      <td>8~10</td>\n",
       "      <td>585</td>\n",
       "    </tr>\n",
       "  </tbody>\n",
       "</table>\n",
       "</div>"
      ],
      "text/plain": [
       "   year breau timescale  count\n",
       "0   101   桃園區       0~2    120\n",
       "1   101   桃園區       2~4     57\n",
       "2   101   桃園區       4~6     67\n",
       "3   101   桃園區       6~8    444\n",
       "4   101   桃園區      8~10    585"
      ]
     },
     "execution_count": 5,
     "metadata": {},
     "output_type": "execute_result"
    }
   ],
   "source": [
    "import pandas as pd\n",
    "\n",
    "df = pd.read_csv('ty_traffic.csv')\n",
    "\n",
    "df.head()"
   ]
  },
  {
   "cell_type": "code",
   "execution_count": 6,
   "id": "92a382a4",
   "metadata": {},
   "outputs": [
    {
     "name": "stdout",
     "output_type": "stream",
     "text": [
      "year         0\n",
      "breau        0\n",
      "timescale    0\n",
      "count        0\n",
      "dtype: int64\n"
     ]
    }
   ],
   "source": [
    "missing_values = df.isnull().sum()\n",
    "\n",
    "print(missing_values)"
   ]
  },
  {
   "cell_type": "code",
   "execution_count": 9,
   "id": "b1102976",
   "metadata": {},
   "outputs": [
    {
     "name": "stdout",
     "output_type": "stream",
     "text": [
      "   count  count_scaled\n",
      "0    120     -0.606312\n",
      "1     57     -0.710858\n",
      "2     67     -0.694263\n",
      "3    444     -0.068647\n",
      "4    585      0.165336\n"
     ]
    }
   ],
   "source": [
    "from sklearn.preprocessing import StandardScaler\n",
    "import matplotlib.pyplot as plt\n",
    "\n",
    "scaler = StandardScaler()\n",
    "\n",
    "df['count_scaled'] = scaler.fit_transform(df[['count']])\n",
    "\n",
    "print(df[['count', 'count_scaled']].head())"
   ]
  },
  {
   "cell_type": "code",
   "execution_count": 10,
   "id": "3f8b0792",
   "metadata": {},
   "outputs": [
    {
     "data": {
      "image/png": "[encoded data removed]",
      "text/plain": [
       "<Figure size 1200x600 with 2 Axes>"
      ]
     },
     "metadata": {},
     "output_type": "display_data"
    }
   ],
   "source": [
    "plt.figure(figsize=(12, 6))\n",
    "\n",
    "\n",
    "plt.subplot(1, 2, 1)\n",
    "plt.hist(df['count'], bins=30, color='blue', alpha=0.7)\n",
    "plt.title('Original Count Distribution')\n",
    "plt.xlabel('Count')\n",
    "plt.ylabel('Frequency')\n",
    "\n",
    "\n",
    "plt.subplot(1, 2, 2)\n",
    "plt.hist(df['count_scaled'], bins=30, color='green', alpha=0.7)\n",
    "plt.title('Standardized Count Distribution')\n",
    "plt.xlabel('Count (Standardized)')\n",
    "plt.ylabel('Frequency')\n",
    "\n",
    "\n",
    "plt.tight_layout()\n",
    "plt.show()"
   ]
  },
  {
   "cell_type": "code",
   "execution_count": 21,
   "id": "b62dfc3e",
   "metadata": {},
   "outputs": [
    {
     "name": "stdout",
     "output_type": "stream",
     "text": [
      "Selected features after VarianceThreshold: ['year', 'breau_中壢區', 'breau_八德區', 'breau_大園區', 'breau_大溪區', 'breau_平鎮區', 'breau_桃園區', 'breau_楊梅區', 'breau_蘆竹區', 'breau_龍潭區', 'breau_龜山區', 'timescale_0~2', 'timescale_10~12', 'timescale_12~14', 'timescale_14~16', 'timescale_16~18', 'timescale_18~20', 'timescale_20~22', 'timescale_22~24', 'timescale_2~4', 'timescale_4~6', 'timescale_6~8', 'timescale_8~10']\n",
      "\n",
      "Feature variances:\n",
      "year: Variance = 11.3288, Status = Selected\n",
      "breau_中壢區: Variance = 0.0755, Status = Selected\n",
      "breau_八德區: Variance = 0.0755, Status = Selected\n",
      "breau_大園區: Variance = 0.0755, Status = Selected\n",
      "breau_大溪區: Variance = 0.0755, Status = Selected\n",
      "breau_平鎮區: Variance = 0.0755, Status = Selected\n",
      "breau_復興區: Variance = 0.0513, Status = Removed\n",
      "breau_新屋區: Variance = 0.0579, Status = Removed\n",
      "breau_桃園區: Variance = 0.0755, Status = Selected\n",
      "breau_楊梅區: Variance = 0.0755, Status = Selected\n",
      "breau_蘆竹區: Variance = 0.0755, Status = Selected\n",
      "breau_觀音區: Variance = 0.0579, Status = Removed\n",
      "breau_龍潭區: Variance = 0.0755, Status = Selected\n",
      "breau_龜山區: Variance = 0.0755, Status = Selected\n",
      "timescale_0~2: Variance = 0.0765, Status = Selected\n",
      "timescale_10~12: Variance = 0.0769, Status = Selected\n",
      "timescale_12~14: Variance = 0.0769, Status = Selected\n",
      "timescale_14~16: Variance = 0.0769, Status = Selected\n",
      "timescale_16~18: Variance = 0.0769, Status = Selected\n",
      "timescale_18~20: Variance = 0.0769, Status = Selected\n",
      "timescale_20~22: Variance = 0.0760, Status = Selected\n",
      "timescale_22~24: Variance = 0.0760, Status = Selected\n",
      "timescale_2~4: Variance = 0.0755, Status = Selected\n",
      "timescale_4~6: Variance = 0.0750, Status = Selected\n",
      "timescale_6~8: Variance = 0.0765, Status = Selected\n",
      "timescale_8~10: Variance = 0.0769, Status = Selected\n"
     ]
    }
   ],
   "source": [
    "\n",
    "from sklearn.feature_selection import VarianceThreshold\n",
    "\n",
    "df_encoded = pd.get_dummies(df, columns=['breau', 'timescale'], drop_first=False)  #不想丟棄類別\n",
    "\n",
    "X = df_encoded.drop(columns=['count', 'count_scaled'])\n",
    "y = df_encoded['count_scaled'] \n",
    "\n",
    "variances = X.var() #計算每個特徵的方差\n",
    "\n",
    "selector = VarianceThreshold(threshold=0.06)\n",
    "X_selected = selector.fit_transform(X)\n",
    "\n",
    "\n",
    "selected_features = X.columns[selector.get_support()]\n",
    "\n",
    "print(\"Selected features after VarianceThreshold:\", selected_features.tolist())\n",
    "\n",
    "print(\"\\nFeature variances:\")\n",
    "for feature, variance in variances.items():\n",
    "    if feature in selected_features:\n",
    "        status = \"Selected\"\n",
    "    else:\n",
    "        status = \"Removed\"\n",
    "    print(f\"{feature}: Variance = {variance:.4f}, Status = {status}\")"
   ]
  },
  {
   "cell_type": "code",
   "execution_count": null,
   "id": "4d20027b",
   "metadata": {},
   "outputs": [],
   "source": []
  },
  {
   "cell_type": "code",
   "execution_count": null,
   "id": "df897d53",
   "metadata": {},
   "outputs": [],
   "source": []
  }
 ],
 "metadata": {
  "kernelspec": {
   "display_name": "Python 3 (ipykernel)",
   "language": "python",
   "name": "python3"
  },
  "language_info": {
   "codemirror_mode": {
    "name": "ipython",
    "version": 3
   },
   "file_extension": ".py",
   "mimetype": "text/x-python",
   "name": "python",
   "nbconvert_exporter": "python",
   "pygments_lexer": "ipython3",
   "version": "3.10.9"
  }
 },
 "nbformat": 4,
 "nbformat_minor": 5
}
